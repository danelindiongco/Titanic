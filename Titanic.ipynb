{
 "cells": [
  {
   "cell_type": "markdown",
   "id": "5df70d61",
   "metadata": {},
   "source": [
    "# Logistic Regression on the Titanic Dataset"
   ]
  },
  {
   "cell_type": "markdown",
   "id": "a2cda4fd",
   "metadata": {},
   "source": [
    "I will be analysing the dataset Titanic from Kaggle found here: https://www.kaggle.com/c/titanic/data?select=train.csv\n",
    "\n",
    "The dataset has been split into 2: 'train.csv' and 'test.csv'. I will be training the model using the 'train.csv' dataset. The dataset 'test.csv' will contain the same columns as 'train.csv' except for the column 'Survived.' I will use the model trained by 'train.csv' to create predictions whether passengers survived for the dataset 'test.csv.'\n",
    "\n",
    "I will first explore the dataset using Matplotlib and Seaborn and then I will build a Logistic Regression Model first using Scikit-Learn and then purely from Numpy."
   ]
  },
  {
   "cell_type": "code",
   "execution_count": 1,
   "id": "e189ceea",
   "metadata": {},
   "outputs": [],
   "source": [
    "import pandas as pd\n",
    "import numpy as np\n",
    "import matplotlib.pyplot as plt\n",
    "import seaborn as sns\n",
    "import copy\n",
    "%matplotlib inline"
   ]
  },
  {
   "cell_type": "code",
   "execution_count": 2,
   "id": "4a1cedfc",
   "metadata": {},
   "outputs": [],
   "source": [
    "df = pd.read_csv('train.csv')"
   ]
  },
  {
   "cell_type": "markdown",
   "id": "d85bb1be",
   "metadata": {},
   "source": [
    "## Exploratory Data Analysis"
   ]
  },
  {
   "cell_type": "markdown",
   "id": "f30308b0",
   "metadata": {},
   "source": [
    " "
   ]
  },
  {
   "cell_type": "code",
   "execution_count": 3,
   "id": "7c814abd",
   "metadata": {},
   "outputs": [
    {
     "data": {
      "text/html": [
       "<div>\n",
       "<style scoped>\n",
       "    .dataframe tbody tr th:only-of-type {\n",
       "        vertical-align: middle;\n",
       "    }\n",
       "\n",
       "    .dataframe tbody tr th {\n",
       "        vertical-align: top;\n",
       "    }\n",
       "\n",
       "    .dataframe thead th {\n",
       "        text-align: right;\n",
       "    }\n",
       "</style>\n",
       "<table border=\"1\" class=\"dataframe\">\n",
       "  <thead>\n",
       "    <tr style=\"text-align: right;\">\n",
       "      <th></th>\n",
       "      <th>PassengerId</th>\n",
       "      <th>Survived</th>\n",
       "      <th>Pclass</th>\n",
       "      <th>Name</th>\n",
       "      <th>Sex</th>\n",
       "      <th>Age</th>\n",
       "      <th>SibSp</th>\n",
       "      <th>Parch</th>\n",
       "      <th>Ticket</th>\n",
       "      <th>Fare</th>\n",
       "      <th>Cabin</th>\n",
       "      <th>Embarked</th>\n",
       "    </tr>\n",
       "  </thead>\n",
       "  <tbody>\n",
       "    <tr>\n",
       "      <th>0</th>\n",
       "      <td>1</td>\n",
       "      <td>0</td>\n",
       "      <td>3</td>\n",
       "      <td>Braund, Mr. Owen Harris</td>\n",
       "      <td>male</td>\n",
       "      <td>22.0</td>\n",
       "      <td>1</td>\n",
       "      <td>0</td>\n",
       "      <td>A/5 21171</td>\n",
       "      <td>7.2500</td>\n",
       "      <td>NaN</td>\n",
       "      <td>S</td>\n",
       "    </tr>\n",
       "    <tr>\n",
       "      <th>1</th>\n",
       "      <td>2</td>\n",
       "      <td>1</td>\n",
       "      <td>1</td>\n",
       "      <td>Cumings, Mrs. John Bradley (Florence Briggs Th...</td>\n",
       "      <td>female</td>\n",
       "      <td>38.0</td>\n",
       "      <td>1</td>\n",
       "      <td>0</td>\n",
       "      <td>PC 17599</td>\n",
       "      <td>71.2833</td>\n",
       "      <td>C85</td>\n",
       "      <td>C</td>\n",
       "    </tr>\n",
       "    <tr>\n",
       "      <th>2</th>\n",
       "      <td>3</td>\n",
       "      <td>1</td>\n",
       "      <td>3</td>\n",
       "      <td>Heikkinen, Miss. Laina</td>\n",
       "      <td>female</td>\n",
       "      <td>26.0</td>\n",
       "      <td>0</td>\n",
       "      <td>0</td>\n",
       "      <td>STON/O2. 3101282</td>\n",
       "      <td>7.9250</td>\n",
       "      <td>NaN</td>\n",
       "      <td>S</td>\n",
       "    </tr>\n",
       "    <tr>\n",
       "      <th>3</th>\n",
       "      <td>4</td>\n",
       "      <td>1</td>\n",
       "      <td>1</td>\n",
       "      <td>Futrelle, Mrs. Jacques Heath (Lily May Peel)</td>\n",
       "      <td>female</td>\n",
       "      <td>35.0</td>\n",
       "      <td>1</td>\n",
       "      <td>0</td>\n",
       "      <td>113803</td>\n",
       "      <td>53.1000</td>\n",
       "      <td>C123</td>\n",
       "      <td>S</td>\n",
       "    </tr>\n",
       "    <tr>\n",
       "      <th>4</th>\n",
       "      <td>5</td>\n",
       "      <td>0</td>\n",
       "      <td>3</td>\n",
       "      <td>Allen, Mr. William Henry</td>\n",
       "      <td>male</td>\n",
       "      <td>35.0</td>\n",
       "      <td>0</td>\n",
       "      <td>0</td>\n",
       "      <td>373450</td>\n",
       "      <td>8.0500</td>\n",
       "      <td>NaN</td>\n",
       "      <td>S</td>\n",
       "    </tr>\n",
       "  </tbody>\n",
       "</table>\n",
       "</div>"
      ],
      "text/plain": [
       "   PassengerId  Survived  Pclass  \\\n",
       "0            1         0       3   \n",
       "1            2         1       1   \n",
       "2            3         1       3   \n",
       "3            4         1       1   \n",
       "4            5         0       3   \n",
       "\n",
       "                                                Name     Sex   Age  SibSp  \\\n",
       "0                            Braund, Mr. Owen Harris    male  22.0      1   \n",
       "1  Cumings, Mrs. John Bradley (Florence Briggs Th...  female  38.0      1   \n",
       "2                             Heikkinen, Miss. Laina  female  26.0      0   \n",
       "3       Futrelle, Mrs. Jacques Heath (Lily May Peel)  female  35.0      1   \n",
       "4                           Allen, Mr. William Henry    male  35.0      0   \n",
       "\n",
       "   Parch            Ticket     Fare Cabin Embarked  \n",
       "0      0         A/5 21171   7.2500   NaN        S  \n",
       "1      0          PC 17599  71.2833   C85        C  \n",
       "2      0  STON/O2. 3101282   7.9250   NaN        S  \n",
       "3      0            113803  53.1000  C123        S  \n",
       "4      0            373450   8.0500   NaN        S  "
      ]
     },
     "execution_count": 3,
     "metadata": {},
     "output_type": "execute_result"
    }
   ],
   "source": [
    "df.head()"
   ]
  },
  {
   "cell_type": "code",
   "execution_count": 4,
   "id": "e34645a7",
   "metadata": {},
   "outputs": [
    {
     "name": "stdout",
     "output_type": "stream",
     "text": [
      "<class 'pandas.core.frame.DataFrame'>\n",
      "RangeIndex: 891 entries, 0 to 890\n",
      "Data columns (total 12 columns):\n",
      " #   Column       Non-Null Count  Dtype  \n",
      "---  ------       --------------  -----  \n",
      " 0   PassengerId  891 non-null    int64  \n",
      " 1   Survived     891 non-null    int64  \n",
      " 2   Pclass       891 non-null    int64  \n",
      " 3   Name         891 non-null    object \n",
      " 4   Sex          891 non-null    object \n",
      " 5   Age          714 non-null    float64\n",
      " 6   SibSp        891 non-null    int64  \n",
      " 7   Parch        891 non-null    int64  \n",
      " 8   Ticket       891 non-null    object \n",
      " 9   Fare         891 non-null    float64\n",
      " 10  Cabin        204 non-null    object \n",
      " 11  Embarked     889 non-null    object \n",
      "dtypes: float64(2), int64(5), object(5)\n",
      "memory usage: 83.7+ KB\n"
     ]
    }
   ],
   "source": [
    "df.info()"
   ]
  },
  {
   "cell_type": "code",
   "execution_count": 5,
   "id": "5283a296",
   "metadata": {},
   "outputs": [
    {
     "data": {
      "text/html": [
       "<div>\n",
       "<style scoped>\n",
       "    .dataframe tbody tr th:only-of-type {\n",
       "        vertical-align: middle;\n",
       "    }\n",
       "\n",
       "    .dataframe tbody tr th {\n",
       "        vertical-align: top;\n",
       "    }\n",
       "\n",
       "    .dataframe thead th {\n",
       "        text-align: right;\n",
       "    }\n",
       "</style>\n",
       "<table border=\"1\" class=\"dataframe\">\n",
       "  <thead>\n",
       "    <tr style=\"text-align: right;\">\n",
       "      <th></th>\n",
       "      <th>PassengerId</th>\n",
       "      <th>Survived</th>\n",
       "      <th>Pclass</th>\n",
       "      <th>Age</th>\n",
       "      <th>SibSp</th>\n",
       "      <th>Parch</th>\n",
       "      <th>Fare</th>\n",
       "    </tr>\n",
       "  </thead>\n",
       "  <tbody>\n",
       "    <tr>\n",
       "      <th>count</th>\n",
       "      <td>891.000000</td>\n",
       "      <td>891.000000</td>\n",
       "      <td>891.000000</td>\n",
       "      <td>714.000000</td>\n",
       "      <td>891.000000</td>\n",
       "      <td>891.000000</td>\n",
       "      <td>891.000000</td>\n",
       "    </tr>\n",
       "    <tr>\n",
       "      <th>mean</th>\n",
       "      <td>446.000000</td>\n",
       "      <td>0.383838</td>\n",
       "      <td>2.308642</td>\n",
       "      <td>29.699118</td>\n",
       "      <td>0.523008</td>\n",
       "      <td>0.381594</td>\n",
       "      <td>32.204208</td>\n",
       "    </tr>\n",
       "    <tr>\n",
       "      <th>std</th>\n",
       "      <td>257.353842</td>\n",
       "      <td>0.486592</td>\n",
       "      <td>0.836071</td>\n",
       "      <td>14.526497</td>\n",
       "      <td>1.102743</td>\n",
       "      <td>0.806057</td>\n",
       "      <td>49.693429</td>\n",
       "    </tr>\n",
       "    <tr>\n",
       "      <th>min</th>\n",
       "      <td>1.000000</td>\n",
       "      <td>0.000000</td>\n",
       "      <td>1.000000</td>\n",
       "      <td>0.420000</td>\n",
       "      <td>0.000000</td>\n",
       "      <td>0.000000</td>\n",
       "      <td>0.000000</td>\n",
       "    </tr>\n",
       "    <tr>\n",
       "      <th>25%</th>\n",
       "      <td>223.500000</td>\n",
       "      <td>0.000000</td>\n",
       "      <td>2.000000</td>\n",
       "      <td>20.125000</td>\n",
       "      <td>0.000000</td>\n",
       "      <td>0.000000</td>\n",
       "      <td>7.910400</td>\n",
       "    </tr>\n",
       "    <tr>\n",
       "      <th>50%</th>\n",
       "      <td>446.000000</td>\n",
       "      <td>0.000000</td>\n",
       "      <td>3.000000</td>\n",
       "      <td>28.000000</td>\n",
       "      <td>0.000000</td>\n",
       "      <td>0.000000</td>\n",
       "      <td>14.454200</td>\n",
       "    </tr>\n",
       "    <tr>\n",
       "      <th>75%</th>\n",
       "      <td>668.500000</td>\n",
       "      <td>1.000000</td>\n",
       "      <td>3.000000</td>\n",
       "      <td>38.000000</td>\n",
       "      <td>1.000000</td>\n",
       "      <td>0.000000</td>\n",
       "      <td>31.000000</td>\n",
       "    </tr>\n",
       "    <tr>\n",
       "      <th>max</th>\n",
       "      <td>891.000000</td>\n",
       "      <td>1.000000</td>\n",
       "      <td>3.000000</td>\n",
       "      <td>80.000000</td>\n",
       "      <td>8.000000</td>\n",
       "      <td>6.000000</td>\n",
       "      <td>512.329200</td>\n",
       "    </tr>\n",
       "  </tbody>\n",
       "</table>\n",
       "</div>"
      ],
      "text/plain": [
       "       PassengerId    Survived      Pclass         Age       SibSp  \\\n",
       "count   891.000000  891.000000  891.000000  714.000000  891.000000   \n",
       "mean    446.000000    0.383838    2.308642   29.699118    0.523008   \n",
       "std     257.353842    0.486592    0.836071   14.526497    1.102743   \n",
       "min       1.000000    0.000000    1.000000    0.420000    0.000000   \n",
       "25%     223.500000    0.000000    2.000000   20.125000    0.000000   \n",
       "50%     446.000000    0.000000    3.000000   28.000000    0.000000   \n",
       "75%     668.500000    1.000000    3.000000   38.000000    1.000000   \n",
       "max     891.000000    1.000000    3.000000   80.000000    8.000000   \n",
       "\n",
       "            Parch        Fare  \n",
       "count  891.000000  891.000000  \n",
       "mean     0.381594   32.204208  \n",
       "std      0.806057   49.693429  \n",
       "min      0.000000    0.000000  \n",
       "25%      0.000000    7.910400  \n",
       "50%      0.000000   14.454200  \n",
       "75%      0.000000   31.000000  \n",
       "max      6.000000  512.329200  "
      ]
     },
     "execution_count": 5,
     "metadata": {},
     "output_type": "execute_result"
    }
   ],
   "source": [
    "df.describe()"
   ]
  },
  {
   "cell_type": "code",
   "execution_count": 6,
   "id": "986d95e0",
   "metadata": {},
   "outputs": [
    {
     "data": {
      "text/plain": [
       "<AxesSubplot:>"
      ]
     },
     "execution_count": 6,
     "metadata": {},
     "output_type": "execute_result"
    },
    {
     "data": {
      "image/png": "[encoded data removed]",
      "text/plain": [
       "<Figure size 432x288 with 1 Axes>"
      ]
     },
     "metadata": {
      "needs_background": "light"
     },
     "output_type": "display_data"
    }
   ],
   "source": [
    "sns.heatmap(df.isnull(),yticklabels=False,cbar=False,cmap='viridis')"
   ]
  },
  {
   "cell_type": "markdown",
   "id": "c57c0463",
   "metadata": {},
   "source": [
    "It appears that the 'Age' coloumn is missing about 20% of its values and the 'Cabin' column is missing most of its data. The model cannot be trained with any missing values. To use the 'Age' column, dummy variables can be used instead like the mean age of all passengers."
   ]
  },
  {
   "cell_type": "code",
   "execution_count": 7,
   "id": "b5a7b7cb",
   "metadata": {},
   "outputs": [
    {
     "data": {
      "image/png": "[encoded data removed]",
      "text/plain": [
       "<Figure size 432x288 with 1 Axes>"
      ]
     },
     "metadata": {
      "needs_background": "light"
     },
     "output_type": "display_data"
    }
   ],
   "source": [
    "plt.hist(df.Age, bins=8, ec='black', histtype='bar', stacked=True, color='lightblue',label='Survived')\n",
    "plt.hist(df.Age[df['Survived']==0], bins=8, ec='black',  histtype='bar', stacked=True, range=(df.Age.min(),df.Age.max()), color='lightgrey',label='Did not survive')\n",
    "\n",
    "plt.title('Distribution of Ages', fontsize=20)\n",
    "plt.legend()\n",
    "plt.rcParams[\"figure.figsize\"] = (11,7)"
   ]
  },
  {
   "cell_type": "markdown",
   "id": "86b8ba93",
   "metadata": {},
   "source": [
    "We can see here that the majority of the passengers were aged between 20 and 40 years old. Furthermore, the proportion between survived and did not survive decreased as the age group increased."
   ]
  },
  {
   "cell_type": "code",
   "execution_count": 8,
   "id": "8710728a",
   "metadata": {},
   "outputs": [
    {
     "data": {
      "text/plain": [
       "Text(0.5, 0, '')"
      ]
     },
     "execution_count": 8,
     "metadata": {},
     "output_type": "execute_result"
    },
    {
     "data": {
      "image/png": "[encoded data removed]",
      "text/plain": [
       "<Figure size 792x504 with 1 Axes>"
      ]
     },
     "metadata": {
      "needs_background": "light"
     },
     "output_type": "display_data"
    }
   ],
   "source": [
    "ax = sns.countplot(x='Survived',data=df,palette=[\"#D3D3D3\",'#ADD8E6'],ec='black')\n",
    "ax.set_xticklabels(['Did not survive', 'Survived'])\n",
    "ax.set_xlabel('')"
   ]
  },
  {
   "cell_type": "markdown",
   "id": "e7e56607",
   "metadata": {},
   "source": [
    "Unfortunately, there were a greater proportion of those that did not survive, where half of the value of those that did not survive, survived."
   ]
  },
  {
   "cell_type": "code",
   "execution_count": 9,
   "id": "c79f03c6",
   "metadata": {},
   "outputs": [
    {
     "data": {
      "text/plain": [
       "Text(0.5, 0, '')"
      ]
     },
     "execution_count": 9,
     "metadata": {},
     "output_type": "execute_result"
    },
    {
     "data": {
      "image/png": "[encoded data removed]",
      "text/plain": [
       "<Figure size 792x504 with 1 Axes>"
      ]
     },
     "metadata": {
      "needs_background": "light"
     },
     "output_type": "display_data"
    }
   ],
   "source": [
    "ax = sns.countplot(x='Survived',hue='Sex',data=df,ec='black')\n",
    "ax.set_xticklabels(['Did not survive','Survived'])\n",
    "ax.set_xlabel('')"
   ]
  },
  {
   "cell_type": "code",
   "execution_count": 10,
   "id": "ce415ec9",
   "metadata": {},
   "outputs": [
    {
     "data": {
      "text/plain": [
       "Text(0.5, 0, '')"
      ]
     },
     "execution_count": 10,
     "metadata": {},
     "output_type": "execute_result"
    },
    {
     "data": {
      "image/png": "[encoded data removed]",
      "text/plain": [
       "<Figure size 792x504 with 1 Axes>"
      ]
     },
     "metadata": {
      "needs_background": "light"
     },
     "output_type": "display_data"
    }
   ],
   "source": [
    "ax = sns.countplot(x='Survived',hue='Pclass',data=df,ec='black',palette='husl')\n",
    "ax.set_xticklabels(['Did not survive','Survived'])\n",
    "ax.set_xlabel('')"
   ]
  },
  {
   "cell_type": "markdown",
   "id": "09476d8b",
   "metadata": {},
   "source": [
    "Pclass 3 represented the cheapest fare and poorest cabin quality. Pclass 3 was the group the contained the greatest number of individuals. Unfortunately, as seen here, Pclass 3 had the greatest amount of deaths. Looking at Pclass 1 & 2, more than half of the group survived for Pclass 1 and about half survived for Pclass 2. However, for Pclass 3, only about 20% of the group survived. "
   ]
  },
  {
   "cell_type": "markdown",
   "id": "e0290ac0",
   "metadata": {},
   "source": [
    "## Data Cleaning"
   ]
  },
  {
   "cell_type": "markdown",
   "id": "593afa36",
   "metadata": {},
   "source": [
    "This section involves me transforming the data to be usable in training the model. Columns such as 'Sex' which contain object type values cannot be used to train the model. Hence I will need to transform the data to float or int types."
   ]
  },
  {
   "cell_type": "markdown",
   "id": "1f0c2aed",
   "metadata": {},
   "source": [
    " "
   ]
  },
  {
   "cell_type": "code",
   "execution_count": 11,
   "id": "b7b3eff6",
   "metadata": {},
   "outputs": [],
   "source": [
    "df.Sex = df.Sex.replace({'female':0, 'male':1})"
   ]
  },
  {
   "cell_type": "code",
   "execution_count": 12,
   "id": "4970df72",
   "metadata": {},
   "outputs": [],
   "source": [
    "def transform_embarked(x):\n",
    "    \n",
    "    if x == 'S':\n",
    "        return 0\n",
    "    \n",
    "    elif x == 'C':\n",
    "        return 1\n",
    "    \n",
    "    else:\n",
    "        return 2"
   ]
  },
  {
   "cell_type": "code",
   "execution_count": 13,
   "id": "41288e76",
   "metadata": {},
   "outputs": [],
   "source": [
    "df.Embarked = df.Embarked.apply(transform_embarked)"
   ]
  },
  {
   "cell_type": "code",
   "execution_count": 14,
   "id": "9846c92a",
   "metadata": {},
   "outputs": [
    {
     "name": "stdout",
     "output_type": "stream",
     "text": [
      "Mean Age of Pclass 1 are 38\n",
      "Mean Age of Pclass 2 are 29\n",
      "Mean Age of Pclass 3 are 25\n"
     ]
    }
   ],
   "source": [
    "print('Mean Age of Pclass 1 are ' + str(int(df.Age[df['Pclass']==1].mean())))\n",
    "print('Mean Age of Pclass 2 are ' + str(int(df.Age[df['Pclass']==2].mean())))\n",
    "print('Mean Age of Pclass 3 are ' + str(int(df.Age[df['Pclass']==3].mean())))"
   ]
  },
  {
   "cell_type": "code",
   "execution_count": 15,
   "id": "50519bc6",
   "metadata": {},
   "outputs": [],
   "source": [
    "def add_age(column):\n",
    "    \n",
    "    Age = column[0]\n",
    "    Pclass = column[1]\n",
    "    \n",
    "    if pd.isnull(Age):\n",
    "        if Pclass == 1:\n",
    "            return 38\n",
    "        \n",
    "        elif Pclass == 2:\n",
    "            return 29\n",
    "        \n",
    "        elif Pclass == 3:\n",
    "            return 25\n",
    "        \n",
    "    else:\n",
    "        return Age"
   ]
  },
  {
   "cell_type": "code",
   "execution_count": 16,
   "id": "6ac1c45f",
   "metadata": {},
   "outputs": [],
   "source": [
    "df.Age = df[['Age', 'Pclass']].apply(add_age,axis=1)"
   ]
  },
  {
   "cell_type": "code",
   "execution_count": 17,
   "id": "7f5e2c5c",
   "metadata": {},
   "outputs": [
    {
     "data": {
      "text/html": [
       "<div>\n",
       "<style scoped>\n",
       "    .dataframe tbody tr th:only-of-type {\n",
       "        vertical-align: middle;\n",
       "    }\n",
       "\n",
       "    .dataframe tbody tr th {\n",
       "        vertical-align: top;\n",
       "    }\n",
       "\n",
       "    .dataframe thead th {\n",
       "        text-align: right;\n",
       "    }\n",
       "</style>\n",
       "<table border=\"1\" class=\"dataframe\">\n",
       "  <thead>\n",
       "    <tr style=\"text-align: right;\">\n",
       "      <th></th>\n",
       "      <th>PassengerId</th>\n",
       "      <th>Survived</th>\n",
       "      <th>Pclass</th>\n",
       "      <th>Name</th>\n",
       "      <th>Sex</th>\n",
       "      <th>Age</th>\n",
       "      <th>SibSp</th>\n",
       "      <th>Parch</th>\n",
       "      <th>Ticket</th>\n",
       "      <th>Fare</th>\n",
       "      <th>Cabin</th>\n",
       "      <th>Embarked</th>\n",
       "    </tr>\n",
       "  </thead>\n",
       "  <tbody>\n",
       "    <tr>\n",
       "      <th>0</th>\n",
       "      <td>1</td>\n",
       "      <td>0</td>\n",
       "      <td>3</td>\n",
       "      <td>Braund, Mr. Owen Harris</td>\n",
       "      <td>1</td>\n",
       "      <td>22.0</td>\n",
       "      <td>1</td>\n",
       "      <td>0</td>\n",
       "      <td>A/5 21171</td>\n",
       "      <td>7.2500</td>\n",
       "      <td>NaN</td>\n",
       "      <td>0</td>\n",
       "    </tr>\n",
       "    <tr>\n",
       "      <th>1</th>\n",
       "      <td>2</td>\n",
       "      <td>1</td>\n",
       "      <td>1</td>\n",
       "      <td>Cumings, Mrs. John Bradley (Florence Briggs Th...</td>\n",
       "      <td>0</td>\n",
       "      <td>38.0</td>\n",
       "      <td>1</td>\n",
       "      <td>0</td>\n",
       "      <td>PC 17599</td>\n",
       "      <td>71.2833</td>\n",
       "      <td>C85</td>\n",
       "      <td>1</td>\n",
       "    </tr>\n",
       "    <tr>\n",
       "      <th>2</th>\n",
       "      <td>3</td>\n",
       "      <td>1</td>\n",
       "      <td>3</td>\n",
       "      <td>Heikkinen, Miss. Laina</td>\n",
       "      <td>0</td>\n",
       "      <td>26.0</td>\n",
       "      <td>0</td>\n",
       "      <td>0</td>\n",
       "      <td>STON/O2. 3101282</td>\n",
       "      <td>7.9250</td>\n",
       "      <td>NaN</td>\n",
       "      <td>0</td>\n",
       "    </tr>\n",
       "    <tr>\n",
       "      <th>3</th>\n",
       "      <td>4</td>\n",
       "      <td>1</td>\n",
       "      <td>1</td>\n",
       "      <td>Futrelle, Mrs. Jacques Heath (Lily May Peel)</td>\n",
       "      <td>0</td>\n",
       "      <td>35.0</td>\n",
       "      <td>1</td>\n",
       "      <td>0</td>\n",
       "      <td>113803</td>\n",
       "      <td>53.1000</td>\n",
       "      <td>C123</td>\n",
       "      <td>0</td>\n",
       "    </tr>\n",
       "    <tr>\n",
       "      <th>4</th>\n",
       "      <td>5</td>\n",
       "      <td>0</td>\n",
       "      <td>3</td>\n",
       "      <td>Allen, Mr. William Henry</td>\n",
       "      <td>1</td>\n",
       "      <td>35.0</td>\n",
       "      <td>0</td>\n",
       "      <td>0</td>\n",
       "      <td>373450</td>\n",
       "      <td>8.0500</td>\n",
       "      <td>NaN</td>\n",
       "      <td>0</td>\n",
       "    </tr>\n",
       "  </tbody>\n",
       "</table>\n",
       "</div>"
      ],
      "text/plain": [
       "   PassengerId  Survived  Pclass  \\\n",
       "0            1         0       3   \n",
       "1            2         1       1   \n",
       "2            3         1       3   \n",
       "3            4         1       1   \n",
       "4            5         0       3   \n",
       "\n",
       "                                                Name  Sex   Age  SibSp  Parch  \\\n",
       "0                            Braund, Mr. Owen Harris    1  22.0      1      0   \n",
       "1  Cumings, Mrs. John Bradley (Florence Briggs Th...    0  38.0      1      0   \n",
       "2                             Heikkinen, Miss. Laina    0  26.0      0      0   \n",
       "3       Futrelle, Mrs. Jacques Heath (Lily May Peel)    0  35.0      1      0   \n",
       "4                           Allen, Mr. William Henry    1  35.0      0      0   \n",
       "\n",
       "             Ticket     Fare Cabin  Embarked  \n",
       "0         A/5 21171   7.2500   NaN         0  \n",
       "1          PC 17599  71.2833   C85         1  \n",
       "2  STON/O2. 3101282   7.9250   NaN         0  \n",
       "3            113803  53.1000  C123         0  \n",
       "4            373450   8.0500   NaN         0  "
      ]
     },
     "execution_count": 17,
     "metadata": {},
     "output_type": "execute_result"
    }
   ],
   "source": [
    "df.head()"
   ]
  },
  {
   "cell_type": "markdown",
   "id": "1c31396a",
   "metadata": {},
   "source": [
    "For columns 'Sex' and 'Embarked' I have replaced their string values to corresponding int values. For example, for 'Sex', I have replaced female with 0 and male with 1.\n",
    "\n",
    "For the column 'Age', I have chosen to input the mean of the corresponding 'Pclass' of the passenger. For example, a passenger with missing age values, who has a Pclass of 2 will be given the age of 29."
   ]
  },
  {
   "cell_type": "markdown",
   "id": "6762bf68",
   "metadata": {},
   "source": [
    "## Training a Logistic Regression Model (using Scikit-Learn)"
   ]
  },
  {
   "cell_type": "markdown",
   "id": "c982c3f1",
   "metadata": {},
   "source": [
    " "
   ]
  },
  {
   "cell_type": "code",
   "execution_count": 18,
   "id": "4b49e89b",
   "metadata": {},
   "outputs": [],
   "source": [
    "from sklearn.model_selection import train_test_split"
   ]
  },
  {
   "cell_type": "code",
   "execution_count": 19,
   "id": "7c3295a0",
   "metadata": {},
   "outputs": [],
   "source": [
    "X = df.drop(columns=['Survived', 'Name', 'Ticket', 'Cabin'])\n",
    "y = df.Survived\n",
    "\n",
    "X_train, X_validation, y_train, y_validation = train_test_split(X, y, test_size = 0.33)"
   ]
  },
  {
   "cell_type": "markdown",
   "id": "065cf7cd",
   "metadata": {},
   "source": [
    "I have chosen to create a validation dataset by splitting 'train.csv' to X_train which holds 67% of the dataset and the X_validation which holds the remaining 33% of the dataset."
   ]
  },
  {
   "cell_type": "code",
   "execution_count": 20,
   "id": "1d5deaf2",
   "metadata": {},
   "outputs": [
    {
     "name": "stdout",
     "output_type": "stream",
     "text": [
      "<class 'pandas.core.frame.DataFrame'>\n",
      "Int64Index: 596 entries, 272 to 638\n",
      "Data columns (total 8 columns):\n",
      " #   Column       Non-Null Count  Dtype  \n",
      "---  ------       --------------  -----  \n",
      " 0   PassengerId  596 non-null    int64  \n",
      " 1   Pclass       596 non-null    int64  \n",
      " 2   Sex          596 non-null    int64  \n",
      " 3   Age          596 non-null    float64\n",
      " 4   SibSp        596 non-null    int64  \n",
      " 5   Parch        596 non-null    int64  \n",
      " 6   Fare         596 non-null    float64\n",
      " 7   Embarked     596 non-null    int64  \n",
      "dtypes: float64(2), int64(6)\n",
      "memory usage: 41.9 KB\n"
     ]
    }
   ],
   "source": [
    "X_train.info()"
   ]
  },
  {
   "cell_type": "code",
   "execution_count": 21,
   "id": "452260a4",
   "metadata": {},
   "outputs": [
    {
     "data": {
      "text/plain": [
       "(596,)"
      ]
     },
     "execution_count": 21,
     "metadata": {},
     "output_type": "execute_result"
    }
   ],
   "source": [
    "y_train.shape"
   ]
  },
  {
   "cell_type": "code",
   "execution_count": 22,
   "id": "ee933b1a",
   "metadata": {},
   "outputs": [],
   "source": [
    "from sklearn.linear_model import LogisticRegression"
   ]
  },
  {
   "cell_type": "code",
   "execution_count": 23,
   "id": "88e3e048",
   "metadata": {},
   "outputs": [],
   "source": [
    "logmodel = LogisticRegression()"
   ]
  },
  {
   "cell_type": "code",
   "execution_count": 24,
   "id": "7e12f408",
   "metadata": {},
   "outputs": [
    {
     "name": "stderr",
     "output_type": "stream",
     "text": [
      "/Users/danelindiongco/miniforge3/lib/python3.9/site-packages/sklearn/linear_model/_logistic.py:814: ConvergenceWarning: lbfgs failed to converge (status=1):\n",
      "STOP: TOTAL NO. of ITERATIONS REACHED LIMIT.\n",
      "\n",
      "Increase the number of iterations (max_iter) or scale the data as shown in:\n",
      "    https://scikit-learn.org/stable/modules/preprocessing.html\n",
      "Please also refer to the documentation for alternative solver options:\n",
      "    https://scikit-learn.org/stable/modules/linear_model.html#logistic-regression\n",
      "  n_iter_i = _check_optimize_result(\n"
     ]
    },
    {
     "data": {
      "text/plain": [
       "LogisticRegression()"
      ]
     },
     "execution_count": 24,
     "metadata": {},
     "output_type": "execute_result"
    }
   ],
   "source": [
    "logmodel.fit(X_train, y_train)"
   ]
  },
  {
   "cell_type": "code",
   "execution_count": 25,
   "id": "294f83cd",
   "metadata": {},
   "outputs": [],
   "source": [
    "predictions = logmodel.predict(X_validation)"
   ]
  },
  {
   "cell_type": "code",
   "execution_count": 26,
   "id": "d09ee3d0",
   "metadata": {},
   "outputs": [],
   "source": [
    "from sklearn.metrics import classification_report"
   ]
  },
  {
   "cell_type": "code",
   "execution_count": 27,
   "id": "be5096af",
   "metadata": {},
   "outputs": [
    {
     "name": "stdout",
     "output_type": "stream",
     "text": [
      "              precision    recall  f1-score   support\n",
      "\n",
      "           0       0.84      0.83      0.84       197\n",
      "           1       0.67      0.69      0.68        98\n",
      "\n",
      "    accuracy                           0.78       295\n",
      "   macro avg       0.76      0.76      0.76       295\n",
      "weighted avg       0.79      0.78      0.78       295\n",
      "\n"
     ]
    }
   ],
   "source": [
    "print(classification_report(y_validation, predictions))"
   ]
  },
  {
   "cell_type": "markdown",
   "id": "6c2d6e7f",
   "metadata": {},
   "source": [
    "Here the model has achieved an accuracy of 80% compared to the validation dataset."
   ]
  },
  {
   "cell_type": "markdown",
   "id": "f8d0a555",
   "metadata": {},
   "source": [
    "## Training a Logistic Regression Model (using Numpy)"
   ]
  },
  {
   "cell_type": "markdown",
   "id": "5689896d",
   "metadata": {},
   "source": [
    " First I will convert the panda dataframes into numpy arrays"
   ]
  },
  {
   "cell_type": "code",
   "execution_count": 28,
   "id": "25c9aebe",
   "metadata": {},
   "outputs": [],
   "source": [
    "X_train_n = X_train.values\n",
    "X_validation_n = X_validation.values\n",
    "y_train_n = y_train.values.reshape(X_train_n.shape[0],1)\n",
    "y_validation_n = y_validation.values.reshape(X_validation_n.shape[0],1)"
   ]
  },
  {
   "cell_type": "markdown",
   "id": "eb15cbb0",
   "metadata": {},
   "source": [
    " "
   ]
  },
  {
   "cell_type": "code",
   "execution_count": 29,
   "id": "f879e8dd",
   "metadata": {},
   "outputs": [
    {
     "name": "stdout",
     "output_type": "stream",
     "text": [
      "Training set has shape: (596, 8)\n",
      "Validation set has shape: (295, 8)\n",
      "(596, 1)\n",
      "(295, 1)\n"
     ]
    }
   ],
   "source": [
    "print('Training set has shape: ' + str(X_train_n.shape))\n",
    "print('Validation set has shape: ' + str(X_validation_n.shape))\n",
    "\n",
    "print(y_train_n.shape)\n",
    "print(y_validation_n.shape)"
   ]
  },
  {
   "cell_type": "markdown",
   "id": "09ed1cc1",
   "metadata": {},
   "source": [
    "This step involves preprocessing the data by subtracting the mean from the dataset and then dividing by the standard deviation."
   ]
  },
  {
   "cell_type": "code",
   "execution_count": 30,
   "id": "c3386f05",
   "metadata": {},
   "outputs": [
    {
     "name": "stdout",
     "output_type": "stream",
     "text": [
      "(596, 8)\n",
      "(295, 8)\n"
     ]
    }
   ],
   "source": [
    "X_train_n = (X_train_n - X_train_n.mean(axis=1).reshape(596,1))/np.std(X_train_n,axis=1).reshape(596,1)\n",
    "X_validation_n = (X_validation_n - X_validation_n.mean(axis=1).reshape(295,1))/np.std(X_validation_n,axis=1).reshape(295,1)\n",
    "print(X_train_n.shape)\n",
    "print(X_validation_n.shape)"
   ]
  },
  {
   "cell_type": "code",
   "execution_count": 31,
   "id": "5ca9b98e",
   "metadata": {},
   "outputs": [],
   "source": [
    "def sigmoid(z): #This function finds the sigmoid of the array. It will be used to find the activation function of 'z = Xw + b'.\n",
    "    a = 1/(1+np.exp(-z))\n",
    "    \n",
    "    return a"
   ]
  },
  {
   "cell_type": "code",
   "execution_count": 32,
   "id": "6476522e",
   "metadata": {},
   "outputs": [],
   "source": [
    "def initialise_with_zero(dims): \n",
    "    \n",
    "    w = np.zeros((dims,1))\n",
    "    b = 0.0\n",
    "    \n",
    "    return w, b"
   ]
  },
  {
   "cell_type": "code",
   "execution_count": 33,
   "id": "6ee5afb6",
   "metadata": {},
   "outputs": [],
   "source": [
    "def propagate(w, b, X, Y): #This function finds the activation function and cost of the model using forward propagation.\n",
    "    #The results are then used to calculate the gradients by backward propagation.\n",
    "    \n",
    "    #Forward propagation\n",
    "    m = X.shape[0]\n",
    "    \n",
    "    a = sigmoid(np.dot(X,w) + b) #calculates activation\n",
    "    \n",
    "    cost = (-1/m) * np.sum((Y * np.log(a)) + ((1-Y) * np.log(1-a)))\n",
    "    \n",
    "    #Gradients initialised by Backward propagation\n",
    "    dw = np.dot(X.T,(a-Y))/m\n",
    "    \n",
    "    db = np.sum(a-Y)/m\n",
    "\n",
    "    \n",
    "    cost = np.squeeze(np.array(cost))\n",
    "    \n",
    "    grads = {\"dw\": dw,\n",
    "             \"db\": db}\n",
    "    \n",
    "    return grads, cost"
   ]
  },
  {
   "cell_type": "code",
   "execution_count": 34,
   "id": "9cd9a05f",
   "metadata": {},
   "outputs": [],
   "source": [
    "def optimize(w, b, X, Y, num_iterations=100, learning_rate=0.009): \n",
    "    #In this function we conduct gradient descent\n",
    "    \n",
    "    \n",
    "    w = copy.deepcopy(w)\n",
    "    b = copy.deepcopy(b)\n",
    "    \n",
    "    costs = []\n",
    "    w_list = []\n",
    "    dw_list = []\n",
    "    \n",
    "    for i in range(num_iterations):\n",
    "        \n",
    "        grads, cost = propagate(w, b, X, Y)     \n",
    "        \n",
    "        dw = grads['dw']\n",
    "        db = grads['db']\n",
    "        \n",
    "        w = w - (learning_rate * dw)\n",
    "        b = b - (learning_rate * db)\n",
    "        \n",
    "        if i % 10000 == 0:\n",
    "            costs.append(cost)\n",
    "            w_list.append(w[0])\n",
    "            dw_list.append(dw[0])\n",
    "            print (\"Cost after iteration %i: %f\" %(i, cost))\n",
    "            \n",
    "    params = {\"w\": w,\n",
    "              \"b\": b}\n",
    "    \n",
    "    grads = {\"dw\": dw,\n",
    "             \"db\": db}\n",
    "        \n",
    "    return params, grads, costs, w_list, dw_list"
   ]
  },
  {
   "cell_type": "code",
   "execution_count": 35,
   "id": "90900f14",
   "metadata": {},
   "outputs": [],
   "source": [
    "def predict(w, b, X):\n",
    "    #This funtion is used to create a list of predictions on the X values using the parameters w & b\n",
    "    \n",
    "    m = X.shape[0]\n",
    "    y_hat = np.zeros((m,1))\n",
    "    w = w.reshape(X.shape[1], 1)\n",
    "    \n",
    "    A = sigmoid(np.dot(X,w)+b)\n",
    "    \n",
    "    for i in range(A.shape[0]):\n",
    "        \n",
    "        if A[i,0] > 0.5:\n",
    "            y_hat[i,0] = int(1)\n",
    "        else:\n",
    "            y_hat[i,0] = int(0)\n",
    "    \n",
    "    y_hat = y_hat.round(decimals=0).astype(object)\n",
    "    return y_hat"
   ]
  },
  {
   "cell_type": "code",
   "execution_count": 36,
   "id": "fbbf4d38",
   "metadata": {},
   "outputs": [],
   "source": [
    "def logistic_regression_model(X_train, Y_train, X_test, Y_test, num_iterations=2000, learning_rate=0.5):\n",
    "    #Merging all the functions together\n",
    "    \n",
    "    w, b = initialise_with_zero(X_train_n.shape[1])\n",
    "\n",
    "    params, grads, costs, w_list, dw_list = optimize(w, b, X_train, Y_train, num_iterations, learning_rate)\n",
    "    \n",
    "    w = params['w']\n",
    "    b = params['b']\n",
    "    \n",
    "    prediction_train = predict(w, b, X_train)\n",
    "    prediction_validation = predict(w, b, X_test)\n",
    "\n",
    "    print(\"train accuracy: {} %\".format(100 - np.mean(np.abs(prediction_train - Y_train)) * 100))\n",
    "    print(\"test accuracy: {} %\".format(100 - np.mean(np.abs(prediction_validation - Y_test)) * 100))\n",
    "    \n",
    "    d = {\"costs\": costs,\n",
    "         \"prediction_validation\": prediction_validation, \n",
    "         \"prediction_train\" : prediction_train, \n",
    "         \"w\" : w, \n",
    "         \"b\" : b,\n",
    "         \"learning_rate\" : learning_rate,\n",
    "         \"num_iterations\": num_iterations, \n",
    "         \"w_list\" : w_list,\n",
    "         \"dw_list\" : dw_list}\n",
    "    \n",
    "    return d"
   ]
  },
  {
   "cell_type": "code",
   "execution_count": 37,
   "id": "d1956501",
   "metadata": {},
   "outputs": [
    {
     "name": "stdout",
     "output_type": "stream",
     "text": [
      "Cost after iteration 0: 0.693147\n",
      "Cost after iteration 10000: 0.634950\n",
      "Cost after iteration 20000: 0.624786\n",
      "Cost after iteration 30000: 0.619156\n",
      "Cost after iteration 40000: 0.615570\n",
      "Cost after iteration 50000: 0.613115\n",
      "Cost after iteration 60000: 0.611356\n",
      "Cost after iteration 70000: 0.610057\n",
      "Cost after iteration 80000: 0.609078\n",
      "Cost after iteration 90000: 0.608328\n",
      "Cost after iteration 100000: 0.607745\n",
      "Cost after iteration 110000: 0.607288\n",
      "Cost after iteration 120000: 0.606927\n",
      "Cost after iteration 130000: 0.606639\n",
      "Cost after iteration 140000: 0.606409\n",
      "Cost after iteration 150000: 0.606224\n",
      "Cost after iteration 160000: 0.606075\n",
      "Cost after iteration 170000: 0.605953\n",
      "Cost after iteration 180000: 0.605855\n",
      "Cost after iteration 190000: 0.605774\n",
      "Cost after iteration 200000: 0.605709\n",
      "Cost after iteration 210000: 0.605655\n",
      "Cost after iteration 220000: 0.605611\n",
      "Cost after iteration 230000: 0.605574\n",
      "Cost after iteration 240000: 0.605545\n",
      "Cost after iteration 250000: 0.605520\n",
      "Cost after iteration 260000: 0.605500\n",
      "Cost after iteration 270000: 0.605483\n",
      "Cost after iteration 280000: 0.605469\n",
      "Cost after iteration 290000: 0.605457\n",
      "Cost after iteration 300000: 0.605448\n",
      "Cost after iteration 310000: 0.605440\n",
      "Cost after iteration 320000: 0.605433\n",
      "Cost after iteration 330000: 0.605428\n",
      "Cost after iteration 340000: 0.605423\n",
      "Cost after iteration 350000: 0.605420\n",
      "Cost after iteration 360000: 0.605417\n",
      "Cost after iteration 370000: 0.605414\n",
      "Cost after iteration 380000: 0.605412\n",
      "Cost after iteration 390000: 0.605410\n",
      "Cost after iteration 400000: 0.605409\n",
      "Cost after iteration 410000: 0.605407\n",
      "Cost after iteration 420000: 0.605406\n",
      "Cost after iteration 430000: 0.605405\n",
      "Cost after iteration 440000: 0.605405\n",
      "Cost after iteration 450000: 0.605404\n",
      "Cost after iteration 460000: 0.605404\n",
      "Cost after iteration 470000: 0.605403\n",
      "Cost after iteration 480000: 0.605403\n",
      "Cost after iteration 490000: 0.605403\n",
      "Cost after iteration 500000: 0.605402\n",
      "Cost after iteration 510000: 0.605402\n",
      "Cost after iteration 520000: 0.605402\n",
      "Cost after iteration 530000: 0.605402\n",
      "Cost after iteration 540000: 0.605402\n",
      "Cost after iteration 550000: 0.605402\n",
      "Cost after iteration 560000: 0.605401\n",
      "Cost after iteration 570000: 0.605401\n",
      "Cost after iteration 580000: 0.605401\n",
      "Cost after iteration 590000: 0.605401\n",
      "Cost after iteration 600000: 0.605401\n",
      "Cost after iteration 610000: 0.605401\n",
      "Cost after iteration 620000: 0.605401\n",
      "Cost after iteration 630000: 0.605401\n",
      "Cost after iteration 640000: 0.605401\n",
      "Cost after iteration 650000: 0.605401\n",
      "Cost after iteration 660000: 0.605401\n",
      "Cost after iteration 670000: 0.605401\n",
      "Cost after iteration 680000: 0.605401\n",
      "Cost after iteration 690000: 0.605401\n",
      "Cost after iteration 700000: 0.605401\n",
      "Cost after iteration 710000: 0.605401\n",
      "Cost after iteration 720000: 0.605401\n",
      "Cost after iteration 730000: 0.605401\n",
      "Cost after iteration 740000: 0.605401\n",
      "Cost after iteration 750000: 0.605401\n",
      "Cost after iteration 760000: 0.605401\n",
      "Cost after iteration 770000: 0.605401\n",
      "Cost after iteration 780000: 0.605401\n",
      "Cost after iteration 790000: 0.605401\n",
      "Cost after iteration 800000: 0.605401\n",
      "Cost after iteration 810000: 0.605401\n",
      "Cost after iteration 820000: 0.605401\n",
      "Cost after iteration 830000: 0.605401\n",
      "Cost after iteration 840000: 0.605401\n",
      "Cost after iteration 850000: 0.605401\n",
      "Cost after iteration 860000: 0.605401\n",
      "Cost after iteration 870000: 0.605401\n",
      "Cost after iteration 880000: 0.605401\n",
      "Cost after iteration 890000: 0.605401\n",
      "Cost after iteration 900000: 0.605401\n",
      "Cost after iteration 910000: 0.605401\n",
      "Cost after iteration 920000: 0.605401\n",
      "Cost after iteration 930000: 0.605401\n",
      "Cost after iteration 940000: 0.605401\n",
      "Cost after iteration 950000: 0.605401\n",
      "Cost after iteration 960000: 0.605401\n",
      "Cost after iteration 970000: 0.605401\n",
      "Cost after iteration 980000: 0.605401\n",
      "Cost after iteration 990000: 0.605401\n",
      "Cost after iteration 1000000: 0.605401\n",
      "train accuracy: 67.78523489932886 %\n",
      "test accuracy: 73.5593220338983 %\n"
     ]
    }
   ],
   "source": [
    "logmodel_n = logistic_regression_model(X_train_n, y_train_n, X_validation_n, y_validation_n, num_iterations=1000001, learning_rate=1)"
   ]
  },
  {
   "cell_type": "markdown",
   "id": "5008a636",
   "metadata": {},
   "source": [
    "This model has achieved an accuracy of 75.3% using the validation dataset."
   ]
  },
  {
   "cell_type": "code",
   "execution_count": 38,
   "id": "4ec8aed9",
   "metadata": {},
   "outputs": [
    {
     "data": {
      "text/plain": [
       "array([[0.0],\n",
       "       [0.0],\n",
       "       [0.0],\n",
       "       [1.0],\n",
       "       [1.0],\n",
       "       [0.0],\n",
       "       [0.0],\n",
       "       [0.0],\n",
       "       [1.0],\n",
       "       [0.0],\n",
       "       [0.0],\n",
       "       [0.0],\n",
       "       [1.0],\n",
       "       [0.0],\n",
       "       [0.0],\n",
       "       [1.0],\n",
       "       [1.0],\n",
       "       [0.0],\n",
       "       [1.0],\n",
       "       [0.0],\n",
       "       [0.0],\n",
       "       [0.0],\n",
       "       [0.0],\n",
       "       [1.0],\n",
       "       [0.0],\n",
       "       [0.0],\n",
       "       [0.0],\n",
       "       [0.0],\n",
       "       [1.0],\n",
       "       [1.0],\n",
       "       [0.0],\n",
       "       [0.0],\n",
       "       [0.0],\n",
       "       [0.0],\n",
       "       [1.0],\n",
       "       [0.0],\n",
       "       [1.0],\n",
       "       [1.0],\n",
       "       [1.0],\n",
       "       [0.0],\n",
       "       [0.0],\n",
       "       [0.0],\n",
       "       [1.0],\n",
       "       [0.0],\n",
       "       [0.0],\n",
       "       [0.0],\n",
       "       [0.0],\n",
       "       [0.0],\n",
       "       [0.0],\n",
       "       [0.0],\n",
       "       [1.0],\n",
       "       [1.0],\n",
       "       [0.0],\n",
       "       [0.0],\n",
       "       [0.0],\n",
       "       [0.0],\n",
       "       [0.0],\n",
       "       [0.0],\n",
       "       [0.0],\n",
       "       [0.0],\n",
       "       [1.0],\n",
       "       [0.0],\n",
       "       [1.0],\n",
       "       [0.0],\n",
       "       [0.0],\n",
       "       [0.0],\n",
       "       [0.0],\n",
       "       [0.0],\n",
       "       [1.0],\n",
       "       [0.0],\n",
       "       [0.0],\n",
       "       [0.0],\n",
       "       [1.0],\n",
       "       [0.0],\n",
       "       [1.0],\n",
       "       [0.0],\n",
       "       [0.0],\n",
       "       [1.0],\n",
       "       [0.0],\n",
       "       [0.0],\n",
       "       [0.0],\n",
       "       [1.0],\n",
       "       [0.0],\n",
       "       [0.0],\n",
       "       [1.0],\n",
       "       [0.0],\n",
       "       [0.0],\n",
       "       [0.0],\n",
       "       [0.0],\n",
       "       [0.0],\n",
       "       [0.0],\n",
       "       [0.0],\n",
       "       [0.0],\n",
       "       [0.0],\n",
       "       [0.0],\n",
       "       [0.0],\n",
       "       [1.0],\n",
       "       [0.0],\n",
       "       [0.0],\n",
       "       [1.0],\n",
       "       [0.0],\n",
       "       [0.0],\n",
       "       [0.0],\n",
       "       [0.0],\n",
       "       [0.0],\n",
       "       [1.0],\n",
       "       [0.0],\n",
       "       [0.0],\n",
       "       [1.0],\n",
       "       [0.0],\n",
       "       [0.0],\n",
       "       [0.0],\n",
       "       [0.0],\n",
       "       [1.0],\n",
       "       [0.0],\n",
       "       [0.0],\n",
       "       [1.0],\n",
       "       [0.0],\n",
       "       [0.0],\n",
       "       [1.0],\n",
       "       [0.0],\n",
       "       [0.0],\n",
       "       [0.0],\n",
       "       [0.0],\n",
       "       [0.0],\n",
       "       [0.0],\n",
       "       [0.0],\n",
       "       [1.0],\n",
       "       [0.0],\n",
       "       [0.0],\n",
       "       [1.0],\n",
       "       [0.0],\n",
       "       [1.0],\n",
       "       [0.0],\n",
       "       [0.0],\n",
       "       [0.0],\n",
       "       [0.0],\n",
       "       [0.0],\n",
       "       [0.0],\n",
       "       [0.0],\n",
       "       [0.0],\n",
       "       [0.0],\n",
       "       [0.0],\n",
       "       [0.0],\n",
       "       [0.0],\n",
       "       [0.0],\n",
       "       [1.0],\n",
       "       [1.0],\n",
       "       [0.0],\n",
       "       [0.0],\n",
       "       [0.0],\n",
       "       [0.0],\n",
       "       [0.0],\n",
       "       [0.0],\n",
       "       [0.0],\n",
       "       [0.0],\n",
       "       [1.0],\n",
       "       [0.0],\n",
       "       [0.0],\n",
       "       [0.0],\n",
       "       [0.0],\n",
       "       [0.0],\n",
       "       [1.0],\n",
       "       [0.0],\n",
       "       [0.0],\n",
       "       [0.0],\n",
       "       [0.0],\n",
       "       [0.0],\n",
       "       [0.0],\n",
       "       [1.0],\n",
       "       [1.0],\n",
       "       [0.0],\n",
       "       [0.0],\n",
       "       [0.0],\n",
       "       [0.0],\n",
       "       [0.0],\n",
       "       [0.0],\n",
       "       [1.0],\n",
       "       [0.0],\n",
       "       [1.0],\n",
       "       [0.0],\n",
       "       [0.0],\n",
       "       [0.0],\n",
       "       [0.0],\n",
       "       [0.0],\n",
       "       [0.0],\n",
       "       [0.0],\n",
       "       [0.0],\n",
       "       [0.0],\n",
       "       [0.0],\n",
       "       [0.0],\n",
       "       [0.0],\n",
       "       [0.0],\n",
       "       [0.0],\n",
       "       [0.0],\n",
       "       [0.0],\n",
       "       [0.0],\n",
       "       [1.0],\n",
       "       [1.0],\n",
       "       [1.0],\n",
       "       [0.0],\n",
       "       [0.0],\n",
       "       [0.0],\n",
       "       [1.0],\n",
       "       [0.0],\n",
       "       [0.0],\n",
       "       [0.0],\n",
       "       [0.0],\n",
       "       [1.0],\n",
       "       [0.0],\n",
       "       [1.0],\n",
       "       [0.0],\n",
       "       [0.0],\n",
       "       [0.0],\n",
       "       [0.0],\n",
       "       [0.0],\n",
       "       [0.0],\n",
       "       [0.0],\n",
       "       [0.0],\n",
       "       [0.0],\n",
       "       [0.0],\n",
       "       [1.0],\n",
       "       [0.0],\n",
       "       [0.0],\n",
       "       [1.0],\n",
       "       [0.0],\n",
       "       [0.0],\n",
       "       [0.0],\n",
       "       [1.0],\n",
       "       [0.0],\n",
       "       [1.0],\n",
       "       [0.0],\n",
       "       [0.0],\n",
       "       [1.0],\n",
       "       [1.0],\n",
       "       [0.0],\n",
       "       [1.0],\n",
       "       [1.0],\n",
       "       [0.0],\n",
       "       [0.0],\n",
       "       [1.0],\n",
       "       [0.0],\n",
       "       [0.0],\n",
       "       [0.0],\n",
       "       [0.0],\n",
       "       [1.0],\n",
       "       [0.0],\n",
       "       [0.0],\n",
       "       [0.0],\n",
       "       [0.0],\n",
       "       [0.0],\n",
       "       [0.0],\n",
       "       [1.0],\n",
       "       [0.0],\n",
       "       [0.0],\n",
       "       [0.0],\n",
       "       [0.0],\n",
       "       [0.0],\n",
       "       [0.0],\n",
       "       [0.0],\n",
       "       [0.0],\n",
       "       [0.0],\n",
       "       [1.0],\n",
       "       [0.0],\n",
       "       [0.0],\n",
       "       [1.0],\n",
       "       [0.0],\n",
       "       [0.0],\n",
       "       [1.0],\n",
       "       [1.0],\n",
       "       [0.0],\n",
       "       [0.0],\n",
       "       [0.0],\n",
       "       [0.0],\n",
       "       [0.0],\n",
       "       [1.0],\n",
       "       [0.0],\n",
       "       [1.0],\n",
       "       [0.0],\n",
       "       [0.0],\n",
       "       [0.0],\n",
       "       [0.0],\n",
       "       [0.0],\n",
       "       [0.0],\n",
       "       [0.0],\n",
       "       [1.0],\n",
       "       [0.0],\n",
       "       [0.0],\n",
       "       [0.0],\n",
       "       [0.0],\n",
       "       [0.0],\n",
       "       [0.0],\n",
       "       [1.0],\n",
       "       [0.0],\n",
       "       [0.0],\n",
       "       [0.0],\n",
       "       [0.0],\n",
       "       [0.0],\n",
       "       [0.0],\n",
       "       [0.0],\n",
       "       [0.0],\n",
       "       [0.0],\n",
       "       [0.0],\n",
       "       [0.0],\n",
       "       [0.0],\n",
       "       [0.0],\n",
       "       [1.0],\n",
       "       [0.0],\n",
       "       [0.0],\n",
       "       [1.0],\n",
       "       [0.0],\n",
       "       [0.0],\n",
       "       [0.0],\n",
       "       [0.0],\n",
       "       [0.0],\n",
       "       [1.0],\n",
       "       [0.0],\n",
       "       [0.0],\n",
       "       [0.0],\n",
       "       [0.0],\n",
       "       [0.0],\n",
       "       [1.0],\n",
       "       [1.0],\n",
       "       [0.0],\n",
       "       [0.0],\n",
       "       [0.0],\n",
       "       [0.0],\n",
       "       [0.0],\n",
       "       [0.0],\n",
       "       [0.0],\n",
       "       [0.0],\n",
       "       [0.0],\n",
       "       [1.0],\n",
       "       [0.0],\n",
       "       [0.0],\n",
       "       [0.0],\n",
       "       [0.0],\n",
       "       [0.0],\n",
       "       [0.0],\n",
       "       [0.0],\n",
       "       [0.0],\n",
       "       [0.0],\n",
       "       [0.0],\n",
       "       [0.0],\n",
       "       [0.0],\n",
       "       [0.0],\n",
       "       [0.0],\n",
       "       [0.0],\n",
       "       [0.0],\n",
       "       [1.0],\n",
       "       [1.0],\n",
       "       [0.0],\n",
       "       [0.0],\n",
       "       [1.0],\n",
       "       [0.0],\n",
       "       [0.0],\n",
       "       [0.0],\n",
       "       [0.0],\n",
       "       [1.0],\n",
       "       [0.0],\n",
       "       [0.0],\n",
       "       [0.0],\n",
       "       [1.0],\n",
       "       [0.0],\n",
       "       [0.0],\n",
       "       [0.0],\n",
       "       [0.0],\n",
       "       [0.0],\n",
       "       [1.0],\n",
       "       [0.0],\n",
       "       [0.0],\n",
       "       [1.0],\n",
       "       [0.0],\n",
       "       [0.0],\n",
       "       [1.0],\n",
       "       [0.0],\n",
       "       [0.0],\n",
       "       [0.0],\n",
       "       [1.0],\n",
       "       [0.0],\n",
       "       [0.0],\n",
       "       [0.0],\n",
       "       [0.0],\n",
       "       [0.0],\n",
       "       [0.0],\n",
       "       [0.0],\n",
       "       [0.0],\n",
       "       [0.0],\n",
       "       [0.0],\n",
       "       [0.0],\n",
       "       [0.0],\n",
       "       [0.0],\n",
       "       [0.0],\n",
       "       [1.0],\n",
       "       [0.0],\n",
       "       [0.0],\n",
       "       [0.0],\n",
       "       [0.0],\n",
       "       [1.0],\n",
       "       [0.0],\n",
       "       [0.0],\n",
       "       [0.0],\n",
       "       [1.0],\n",
       "       [1.0],\n",
       "       [0.0],\n",
       "       [0.0],\n",
       "       [0.0],\n",
       "       [0.0],\n",
       "       [0.0],\n",
       "       [0.0],\n",
       "       [0.0],\n",
       "       [0.0],\n",
       "       [0.0],\n",
       "       [0.0],\n",
       "       [0.0],\n",
       "       [1.0],\n",
       "       [0.0],\n",
       "       [0.0],\n",
       "       [0.0],\n",
       "       [0.0],\n",
       "       [1.0],\n",
       "       [0.0],\n",
       "       [0.0],\n",
       "       [0.0],\n",
       "       [0.0],\n",
       "       [1.0],\n",
       "       [0.0],\n",
       "       [0.0],\n",
       "       [0.0],\n",
       "       [0.0],\n",
       "       [0.0],\n",
       "       [0.0],\n",
       "       [0.0],\n",
       "       [0.0],\n",
       "       [0.0],\n",
       "       [0.0],\n",
       "       [0.0],\n",
       "       [0.0],\n",
       "       [0.0],\n",
       "       [0.0],\n",
       "       [0.0],\n",
       "       [0.0],\n",
       "       [1.0],\n",
       "       [0.0],\n",
       "       [1.0],\n",
       "       [0.0],\n",
       "       [0.0],\n",
       "       [0.0],\n",
       "       [0.0],\n",
       "       [0.0],\n",
       "       [1.0],\n",
       "       [0.0],\n",
       "       [0.0],\n",
       "       [0.0],\n",
       "       [0.0],\n",
       "       [0.0],\n",
       "       [1.0],\n",
       "       [0.0],\n",
       "       [1.0],\n",
       "       [0.0],\n",
       "       [0.0],\n",
       "       [0.0],\n",
       "       [0.0],\n",
       "       [0.0],\n",
       "       [0.0],\n",
       "       [0.0],\n",
       "       [0.0],\n",
       "       [0.0],\n",
       "       [0.0],\n",
       "       [0.0],\n",
       "       [0.0],\n",
       "       [0.0],\n",
       "       [0.0],\n",
       "       [0.0],\n",
       "       [0.0],\n",
       "       [0.0],\n",
       "       [1.0],\n",
       "       [1.0],\n",
       "       [0.0],\n",
       "       [0.0],\n",
       "       [0.0],\n",
       "       [0.0],\n",
       "       [0.0],\n",
       "       [0.0],\n",
       "       [0.0],\n",
       "       [0.0],\n",
       "       [0.0],\n",
       "       [0.0],\n",
       "       [0.0],\n",
       "       [0.0],\n",
       "       [0.0],\n",
       "       [1.0],\n",
       "       [1.0],\n",
       "       [0.0],\n",
       "       [1.0],\n",
       "       [0.0],\n",
       "       [0.0],\n",
       "       [0.0],\n",
       "       [0.0],\n",
       "       [1.0],\n",
       "       [0.0],\n",
       "       [0.0],\n",
       "       [0.0],\n",
       "       [1.0],\n",
       "       [0.0],\n",
       "       [1.0],\n",
       "       [1.0],\n",
       "       [0.0],\n",
       "       [0.0],\n",
       "       [0.0],\n",
       "       [0.0],\n",
       "       [0.0],\n",
       "       [0.0],\n",
       "       [0.0],\n",
       "       [1.0],\n",
       "       [0.0],\n",
       "       [0.0],\n",
       "       [0.0],\n",
       "       [1.0],\n",
       "       [0.0],\n",
       "       [1.0],\n",
       "       [0.0],\n",
       "       [0.0],\n",
       "       [0.0],\n",
       "       [0.0],\n",
       "       [1.0],\n",
       "       [0.0],\n",
       "       [0.0],\n",
       "       [0.0],\n",
       "       [1.0],\n",
       "       [0.0],\n",
       "       [0.0],\n",
       "       [1.0],\n",
       "       [0.0],\n",
       "       [1.0],\n",
       "       [0.0],\n",
       "       [0.0],\n",
       "       [1.0],\n",
       "       [0.0],\n",
       "       [0.0],\n",
       "       [0.0],\n",
       "       [0.0],\n",
       "       [1.0],\n",
       "       [0.0],\n",
       "       [0.0],\n",
       "       [0.0],\n",
       "       [0.0],\n",
       "       [0.0],\n",
       "       [0.0],\n",
       "       [0.0],\n",
       "       [0.0],\n",
       "       [0.0],\n",
       "       [0.0],\n",
       "       [0.0],\n",
       "       [0.0],\n",
       "       [1.0],\n",
       "       [1.0],\n",
       "       [0.0],\n",
       "       [0.0],\n",
       "       [0.0],\n",
       "       [0.0],\n",
       "       [0.0],\n",
       "       [0.0],\n",
       "       [0.0],\n",
       "       [1.0],\n",
       "       [0.0],\n",
       "       [0.0],\n",
       "       [1.0],\n",
       "       [0.0],\n",
       "       [0.0],\n",
       "       [0.0],\n",
       "       [1.0],\n",
       "       [0.0],\n",
       "       [0.0],\n",
       "       [0.0],\n",
       "       [0.0],\n",
       "       [0.0],\n",
       "       [1.0],\n",
       "       [0.0],\n",
       "       [0.0],\n",
       "       [0.0],\n",
       "       [0.0],\n",
       "       [0.0],\n",
       "       [0.0],\n",
       "       [1.0],\n",
       "       [0.0],\n",
       "       [0.0],\n",
       "       [1.0],\n",
       "       [0.0],\n",
       "       [0.0],\n",
       "       [1.0],\n",
       "       [1.0],\n",
       "       [0.0],\n",
       "       [0.0],\n",
       "       [0.0],\n",
       "       [1.0]], dtype=object)"
      ]
     },
     "execution_count": 38,
     "metadata": {},
     "output_type": "execute_result"
    }
   ],
   "source": [
    "logmodel_n['prediction_train']"
   ]
  },
  {
   "cell_type": "code",
   "execution_count": 39,
   "id": "3e85886c",
   "metadata": {},
   "outputs": [
    {
     "data": {
      "image/png": "[encoded data removed]",
      "text/plain": [
       "<Figure size 792x504 with 1 Axes>"
      ]
     },
     "metadata": {
      "needs_background": "light"
     },
     "output_type": "display_data"
    }
   ],
   "source": [
    "costs = np.squeeze(logmodel_n['costs'])\n",
    "plt.plot(costs)\n",
    "plt.ylabel('cost')\n",
    "plt.xlabel('iterations (per hundreds)')\n",
    "plt.title(\"Learning rate =\" + str(logmodel_n[\"learning_rate\"]))\n",
    "plt.show()"
   ]
  },
  {
   "cell_type": "markdown",
   "id": "e55bc931",
   "metadata": {},
   "source": [
    "Here we can see the cost fall and then plateau after 1,000,000 iterations and a learning rate of 1."
   ]
  },
  {
   "cell_type": "markdown",
   "id": "49fecc8c",
   "metadata": {},
   "source": [
    "## Predicting the test values"
   ]
  },
  {
   "cell_type": "code",
   "execution_count": 40,
   "id": "a37aeb2b",
   "metadata": {},
   "outputs": [],
   "source": [
    "df_test = pd.read_csv('test.csv')"
   ]
  },
  {
   "cell_type": "code",
   "execution_count": 41,
   "id": "f8ab7e6c",
   "metadata": {},
   "outputs": [
    {
     "data": {
      "text/html": [
       "<div>\n",
       "<style scoped>\n",
       "    .dataframe tbody tr th:only-of-type {\n",
       "        vertical-align: middle;\n",
       "    }\n",
       "\n",
       "    .dataframe tbody tr th {\n",
       "        vertical-align: top;\n",
       "    }\n",
       "\n",
       "    .dataframe thead th {\n",
       "        text-align: right;\n",
       "    }\n",
       "</style>\n",
       "<table border=\"1\" class=\"dataframe\">\n",
       "  <thead>\n",
       "    <tr style=\"text-align: right;\">\n",
       "      <th></th>\n",
       "      <th>PassengerId</th>\n",
       "      <th>Pclass</th>\n",
       "      <th>Name</th>\n",
       "      <th>Sex</th>\n",
       "      <th>Age</th>\n",
       "      <th>SibSp</th>\n",
       "      <th>Parch</th>\n",
       "      <th>Ticket</th>\n",
       "      <th>Fare</th>\n",
       "      <th>Cabin</th>\n",
       "      <th>Embarked</th>\n",
       "    </tr>\n",
       "  </thead>\n",
       "  <tbody>\n",
       "    <tr>\n",
       "      <th>0</th>\n",
       "      <td>892</td>\n",
       "      <td>3</td>\n",
       "      <td>Kelly, Mr. James</td>\n",
       "      <td>male</td>\n",
       "      <td>34.5</td>\n",
       "      <td>0</td>\n",
       "      <td>0</td>\n",
       "      <td>330911</td>\n",
       "      <td>7.8292</td>\n",
       "      <td>NaN</td>\n",
       "      <td>Q</td>\n",
       "    </tr>\n",
       "    <tr>\n",
       "      <th>1</th>\n",
       "      <td>893</td>\n",
       "      <td>3</td>\n",
       "      <td>Wilkes, Mrs. James (Ellen Needs)</td>\n",
       "      <td>female</td>\n",
       "      <td>47.0</td>\n",
       "      <td>1</td>\n",
       "      <td>0</td>\n",
       "      <td>363272</td>\n",
       "      <td>7.0000</td>\n",
       "      <td>NaN</td>\n",
       "      <td>S</td>\n",
       "    </tr>\n",
       "    <tr>\n",
       "      <th>2</th>\n",
       "      <td>894</td>\n",
       "      <td>2</td>\n",
       "      <td>Myles, Mr. Thomas Francis</td>\n",
       "      <td>male</td>\n",
       "      <td>62.0</td>\n",
       "      <td>0</td>\n",
       "      <td>0</td>\n",
       "      <td>240276</td>\n",
       "      <td>9.6875</td>\n",
       "      <td>NaN</td>\n",
       "      <td>Q</td>\n",
       "    </tr>\n",
       "    <tr>\n",
       "      <th>3</th>\n",
       "      <td>895</td>\n",
       "      <td>3</td>\n",
       "      <td>Wirz, Mr. Albert</td>\n",
       "      <td>male</td>\n",
       "      <td>27.0</td>\n",
       "      <td>0</td>\n",
       "      <td>0</td>\n",
       "      <td>315154</td>\n",
       "      <td>8.6625</td>\n",
       "      <td>NaN</td>\n",
       "      <td>S</td>\n",
       "    </tr>\n",
       "    <tr>\n",
       "      <th>4</th>\n",
       "      <td>896</td>\n",
       "      <td>3</td>\n",
       "      <td>Hirvonen, Mrs. Alexander (Helga E Lindqvist)</td>\n",
       "      <td>female</td>\n",
       "      <td>22.0</td>\n",
       "      <td>1</td>\n",
       "      <td>1</td>\n",
       "      <td>3101298</td>\n",
       "      <td>12.2875</td>\n",
       "      <td>NaN</td>\n",
       "      <td>S</td>\n",
       "    </tr>\n",
       "  </tbody>\n",
       "</table>\n",
       "</div>"
      ],
      "text/plain": [
       "   PassengerId  Pclass                                          Name     Sex  \\\n",
       "0          892       3                              Kelly, Mr. James    male   \n",
       "1          893       3              Wilkes, Mrs. James (Ellen Needs)  female   \n",
       "2          894       2                     Myles, Mr. Thomas Francis    male   \n",
       "3          895       3                              Wirz, Mr. Albert    male   \n",
       "4          896       3  Hirvonen, Mrs. Alexander (Helga E Lindqvist)  female   \n",
       "\n",
       "    Age  SibSp  Parch   Ticket     Fare Cabin Embarked  \n",
       "0  34.5      0      0   330911   7.8292   NaN        Q  \n",
       "1  47.0      1      0   363272   7.0000   NaN        S  \n",
       "2  62.0      0      0   240276   9.6875   NaN        Q  \n",
       "3  27.0      0      0   315154   8.6625   NaN        S  \n",
       "4  22.0      1      1  3101298  12.2875   NaN        S  "
      ]
     },
     "execution_count": 41,
     "metadata": {},
     "output_type": "execute_result"
    }
   ],
   "source": [
    "df_test.head()"
   ]
  },
  {
   "cell_type": "code",
   "execution_count": 42,
   "id": "2b2c52ff",
   "metadata": {},
   "outputs": [],
   "source": [
    "#Transforming the data\n",
    "df_test.Sex = df_test.Sex.replace({'female':0, 'male':1})\n",
    "\n",
    "df_test.Embarked = df_test.Embarked.apply(transform_embarked)\n",
    "\n",
    "df_test.Age = df_test[['Age', 'Pclass']].apply(add_age,axis=1)"
   ]
  },
  {
   "cell_type": "code",
   "execution_count": 43,
   "id": "825bc5bd",
   "metadata": {},
   "outputs": [
    {
     "data": {
      "text/html": [
       "<div>\n",
       "<style scoped>\n",
       "    .dataframe tbody tr th:only-of-type {\n",
       "        vertical-align: middle;\n",
       "    }\n",
       "\n",
       "    .dataframe tbody tr th {\n",
       "        vertical-align: top;\n",
       "    }\n",
       "\n",
       "    .dataframe thead th {\n",
       "        text-align: right;\n",
       "    }\n",
       "</style>\n",
       "<table border=\"1\" class=\"dataframe\">\n",
       "  <thead>\n",
       "    <tr style=\"text-align: right;\">\n",
       "      <th></th>\n",
       "      <th>PassengerId</th>\n",
       "      <th>Pclass</th>\n",
       "      <th>Name</th>\n",
       "      <th>Sex</th>\n",
       "      <th>Age</th>\n",
       "      <th>SibSp</th>\n",
       "      <th>Parch</th>\n",
       "      <th>Ticket</th>\n",
       "      <th>Fare</th>\n",
       "      <th>Cabin</th>\n",
       "      <th>Embarked</th>\n",
       "    </tr>\n",
       "  </thead>\n",
       "  <tbody>\n",
       "    <tr>\n",
       "      <th>0</th>\n",
       "      <td>892</td>\n",
       "      <td>3</td>\n",
       "      <td>Kelly, Mr. James</td>\n",
       "      <td>1</td>\n",
       "      <td>34.5</td>\n",
       "      <td>0</td>\n",
       "      <td>0</td>\n",
       "      <td>330911</td>\n",
       "      <td>7.8292</td>\n",
       "      <td>NaN</td>\n",
       "      <td>2</td>\n",
       "    </tr>\n",
       "    <tr>\n",
       "      <th>1</th>\n",
       "      <td>893</td>\n",
       "      <td>3</td>\n",
       "      <td>Wilkes, Mrs. James (Ellen Needs)</td>\n",
       "      <td>0</td>\n",
       "      <td>47.0</td>\n",
       "      <td>1</td>\n",
       "      <td>0</td>\n",
       "      <td>363272</td>\n",
       "      <td>7.0000</td>\n",
       "      <td>NaN</td>\n",
       "      <td>0</td>\n",
       "    </tr>\n",
       "    <tr>\n",
       "      <th>2</th>\n",
       "      <td>894</td>\n",
       "      <td>2</td>\n",
       "      <td>Myles, Mr. Thomas Francis</td>\n",
       "      <td>1</td>\n",
       "      <td>62.0</td>\n",
       "      <td>0</td>\n",
       "      <td>0</td>\n",
       "      <td>240276</td>\n",
       "      <td>9.6875</td>\n",
       "      <td>NaN</td>\n",
       "      <td>2</td>\n",
       "    </tr>\n",
       "    <tr>\n",
       "      <th>3</th>\n",
       "      <td>895</td>\n",
       "      <td>3</td>\n",
       "      <td>Wirz, Mr. Albert</td>\n",
       "      <td>1</td>\n",
       "      <td>27.0</td>\n",
       "      <td>0</td>\n",
       "      <td>0</td>\n",
       "      <td>315154</td>\n",
       "      <td>8.6625</td>\n",
       "      <td>NaN</td>\n",
       "      <td>0</td>\n",
       "    </tr>\n",
       "    <tr>\n",
       "      <th>4</th>\n",
       "      <td>896</td>\n",
       "      <td>3</td>\n",
       "      <td>Hirvonen, Mrs. Alexander (Helga E Lindqvist)</td>\n",
       "      <td>0</td>\n",
       "      <td>22.0</td>\n",
       "      <td>1</td>\n",
       "      <td>1</td>\n",
       "      <td>3101298</td>\n",
       "      <td>12.2875</td>\n",
       "      <td>NaN</td>\n",
       "      <td>0</td>\n",
       "    </tr>\n",
       "  </tbody>\n",
       "</table>\n",
       "</div>"
      ],
      "text/plain": [
       "   PassengerId  Pclass                                          Name  Sex  \\\n",
       "0          892       3                              Kelly, Mr. James    1   \n",
       "1          893       3              Wilkes, Mrs. James (Ellen Needs)    0   \n",
       "2          894       2                     Myles, Mr. Thomas Francis    1   \n",
       "3          895       3                              Wirz, Mr. Albert    1   \n",
       "4          896       3  Hirvonen, Mrs. Alexander (Helga E Lindqvist)    0   \n",
       "\n",
       "    Age  SibSp  Parch   Ticket     Fare Cabin  Embarked  \n",
       "0  34.5      0      0   330911   7.8292   NaN         2  \n",
       "1  47.0      1      0   363272   7.0000   NaN         0  \n",
       "2  62.0      0      0   240276   9.6875   NaN         2  \n",
       "3  27.0      0      0   315154   8.6625   NaN         0  \n",
       "4  22.0      1      1  3101298  12.2875   NaN         0  "
      ]
     },
     "execution_count": 43,
     "metadata": {},
     "output_type": "execute_result"
    }
   ],
   "source": [
    "df_test.head()"
   ]
  },
  {
   "cell_type": "code",
   "execution_count": 44,
   "id": "92a430c0",
   "metadata": {},
   "outputs": [],
   "source": [
    "X_s = df_test.drop(columns=['Name', 'Ticket', 'Cabin'])"
   ]
  },
  {
   "cell_type": "code",
   "execution_count": 45,
   "id": "88a56949",
   "metadata": {},
   "outputs": [
    {
     "data": {
      "text/plain": [
       "<AxesSubplot:>"
      ]
     },
     "execution_count": 45,
     "metadata": {},
     "output_type": "execute_result"
    },
    {
     "data": {
      "image/png": "[encoded data removed]",
      "text/plain": [
       "<Figure size 792x504 with 2 Axes>"
      ]
     },
     "metadata": {
      "needs_background": "light"
     },
     "output_type": "display_data"
    }
   ],
   "source": [
    "#Turns out there is a missing value for fare\n",
    "sns.heatmap(X_s.isnull(),cmap='viridis')"
   ]
  },
  {
   "cell_type": "code",
   "execution_count": 46,
   "id": "20f86afb",
   "metadata": {},
   "outputs": [
    {
     "data": {
      "text/html": [
       "<div>\n",
       "<style scoped>\n",
       "    .dataframe tbody tr th:only-of-type {\n",
       "        vertical-align: middle;\n",
       "    }\n",
       "\n",
       "    .dataframe tbody tr th {\n",
       "        vertical-align: top;\n",
       "    }\n",
       "\n",
       "    .dataframe thead th {\n",
       "        text-align: right;\n",
       "    }\n",
       "</style>\n",
       "<table border=\"1\" class=\"dataframe\">\n",
       "  <thead>\n",
       "    <tr style=\"text-align: right;\">\n",
       "      <th></th>\n",
       "      <th>PassengerId</th>\n",
       "      <th>Pclass</th>\n",
       "      <th>Sex</th>\n",
       "      <th>Age</th>\n",
       "      <th>SibSp</th>\n",
       "      <th>Parch</th>\n",
       "      <th>Fare</th>\n",
       "      <th>Embarked</th>\n",
       "    </tr>\n",
       "  </thead>\n",
       "  <tbody>\n",
       "    <tr>\n",
       "      <th>152</th>\n",
       "      <td>1044</td>\n",
       "      <td>3</td>\n",
       "      <td>1</td>\n",
       "      <td>60.5</td>\n",
       "      <td>0</td>\n",
       "      <td>0</td>\n",
       "      <td>NaN</td>\n",
       "      <td>0</td>\n",
       "    </tr>\n",
       "  </tbody>\n",
       "</table>\n",
       "</div>"
      ],
      "text/plain": [
       "     PassengerId  Pclass  Sex   Age  SibSp  Parch  Fare  Embarked\n",
       "152         1044       3    1  60.5      0      0   NaN         0"
      ]
     },
     "execution_count": 46,
     "metadata": {},
     "output_type": "execute_result"
    }
   ],
   "source": [
    "#To analyse the case of the missing fare value\n",
    "X_s[X_s.Fare.isnull()]"
   ]
  },
  {
   "cell_type": "code",
   "execution_count": 47,
   "id": "a58bca48",
   "metadata": {},
   "outputs": [
    {
     "data": {
      "text/plain": [
       "14.644083002832863"
      ]
     },
     "execution_count": 47,
     "metadata": {},
     "output_type": "execute_result"
    }
   ],
   "source": [
    "df_temp = df[df['Pclass']==3]\n",
    "df_temp.Fare[df['Embarked']==0].mean() #The mean of all Pclass passengers going to destination S"
   ]
  },
  {
   "cell_type": "code",
   "execution_count": 48,
   "id": "f76ec40c",
   "metadata": {},
   "outputs": [
    {
     "name": "stderr",
     "output_type": "stream",
     "text": [
      "/var/folders/2_/08fmp8hd5sn41mj0flx0plxh0000gn/T/ipykernel_27390/2736077735.py:2: SettingWithCopyWarning: \n",
      "A value is trying to be set on a copy of a slice from a DataFrame\n",
      "\n",
      "See the caveats in the documentation: https://pandas.pydata.org/pandas-docs/stable/user_guide/indexing.html#returning-a-view-versus-a-copy\n",
      "  X_s.Fare[X_s.Fare.isnull()] = 14.6\n"
     ]
    }
   ],
   "source": [
    "#The null value has been replaced with 14.6\n",
    "X_s.Fare[X_s.Fare.isnull()] = 14.6"
   ]
  },
  {
   "cell_type": "code",
   "execution_count": 49,
   "id": "a5a6a1fc",
   "metadata": {},
   "outputs": [
    {
     "data": {
      "text/plain": [
       "<AxesSubplot:>"
      ]
     },
     "execution_count": 49,
     "metadata": {},
     "output_type": "execute_result"
    },
    {
     "data": {
      "image/png": "[encoded data removed]",
      "text/plain": [
       "<Figure size 792x504 with 2 Axes>"
      ]
     },
     "metadata": {
      "needs_background": "light"
     },
     "output_type": "display_data"
    }
   ],
   "source": [
    "#Double checking to see if there are any more null values\n",
    "sns.heatmap(X_s.isnull(),cmap='viridis')"
   ]
  },
  {
   "cell_type": "code",
   "execution_count": 50,
   "id": "4782b0ad",
   "metadata": {},
   "outputs": [],
   "source": [
    "#Creating predictions using model trained via Scikit-learn\n",
    "prediction_test_s = logmodel.predict(X_s)"
   ]
  },
  {
   "cell_type": "code",
   "execution_count": 51,
   "id": "eab8b15f",
   "metadata": {},
   "outputs": [],
   "source": [
    "#Creates a numpy array for X_s dataframe then transform the data\n",
    "X_n = X_s.values\n",
    "X_n = (X_n - X_n.mean(axis=1).reshape(418,1))/np.std(X_n,axis=1).reshape(418,1)"
   ]
  },
  {
   "cell_type": "code",
   "execution_count": 52,
   "id": "cb81a6bb",
   "metadata": {},
   "outputs": [],
   "source": [
    "#Produces the prediction array from the Numpy model\n",
    "prediction_test_n = predict(logmodel_n['w'], logmodel_n['b'], X_n)\n",
    "prediction_test_n = np.squeeze(prediction_test_n.astype(int))"
   ]
  },
  {
   "cell_type": "code",
   "execution_count": 53,
   "id": "cb034eb4",
   "metadata": {},
   "outputs": [],
   "source": [
    "#To create a dataframe including only PassengerId\n",
    "submission_s = df_test.drop(['Pclass','Sex','Age','SibSp','Parch','Fare','Embarked','Name','Ticket','Cabin'],axis=1)\n",
    "submission_n = df_test.drop(['Pclass','Sex','Age','SibSp','Parch','Fare','Embarked','Name','Ticket','Cabin'],axis=1)"
   ]
  },
  {
   "cell_type": "code",
   "execution_count": 54,
   "id": "9073bd58",
   "metadata": {
    "scrolled": true
   },
   "outputs": [
    {
     "data": {
      "text/html": [
       "<div>\n",
       "<style scoped>\n",
       "    .dataframe tbody tr th:only-of-type {\n",
       "        vertical-align: middle;\n",
       "    }\n",
       "\n",
       "    .dataframe tbody tr th {\n",
       "        vertical-align: top;\n",
       "    }\n",
       "\n",
       "    .dataframe thead th {\n",
       "        text-align: right;\n",
       "    }\n",
       "</style>\n",
       "<table border=\"1\" class=\"dataframe\">\n",
       "  <thead>\n",
       "    <tr style=\"text-align: right;\">\n",
       "      <th></th>\n",
       "      <th>PassengerId</th>\n",
       "    </tr>\n",
       "  </thead>\n",
       "  <tbody>\n",
       "    <tr>\n",
       "      <th>0</th>\n",
       "      <td>892</td>\n",
       "    </tr>\n",
       "    <tr>\n",
       "      <th>1</th>\n",
       "      <td>893</td>\n",
       "    </tr>\n",
       "    <tr>\n",
       "      <th>2</th>\n",
       "      <td>894</td>\n",
       "    </tr>\n",
       "    <tr>\n",
       "      <th>3</th>\n",
       "      <td>895</td>\n",
       "    </tr>\n",
       "    <tr>\n",
       "      <th>4</th>\n",
       "      <td>896</td>\n",
       "    </tr>\n",
       "    <tr>\n",
       "      <th>...</th>\n",
       "      <td>...</td>\n",
       "    </tr>\n",
       "    <tr>\n",
       "      <th>413</th>\n",
       "      <td>1305</td>\n",
       "    </tr>\n",
       "    <tr>\n",
       "      <th>414</th>\n",
       "      <td>1306</td>\n",
       "    </tr>\n",
       "    <tr>\n",
       "      <th>415</th>\n",
       "      <td>1307</td>\n",
       "    </tr>\n",
       "    <tr>\n",
       "      <th>416</th>\n",
       "      <td>1308</td>\n",
       "    </tr>\n",
       "    <tr>\n",
       "      <th>417</th>\n",
       "      <td>1309</td>\n",
       "    </tr>\n",
       "  </tbody>\n",
       "</table>\n",
       "<p>418 rows × 1 columns</p>\n",
       "</div>"
      ],
      "text/plain": [
       "     PassengerId\n",
       "0            892\n",
       "1            893\n",
       "2            894\n",
       "3            895\n",
       "4            896\n",
       "..           ...\n",
       "413         1305\n",
       "414         1306\n",
       "415         1307\n",
       "416         1308\n",
       "417         1309\n",
       "\n",
       "[418 rows x 1 columns]"
      ]
     },
     "execution_count": 54,
     "metadata": {},
     "output_type": "execute_result"
    }
   ],
   "source": [
    "submission_s "
   ]
  },
  {
   "cell_type": "code",
   "execution_count": 55,
   "id": "fae58a79",
   "metadata": {},
   "outputs": [
    {
     "data": {
      "text/html": [
       "<div>\n",
       "<style scoped>\n",
       "    .dataframe tbody tr th:only-of-type {\n",
       "        vertical-align: middle;\n",
       "    }\n",
       "\n",
       "    .dataframe tbody tr th {\n",
       "        vertical-align: top;\n",
       "    }\n",
       "\n",
       "    .dataframe thead th {\n",
       "        text-align: right;\n",
       "    }\n",
       "</style>\n",
       "<table border=\"1\" class=\"dataframe\">\n",
       "  <thead>\n",
       "    <tr style=\"text-align: right;\">\n",
       "      <th></th>\n",
       "      <th>PassengerId</th>\n",
       "      <th>Survived</th>\n",
       "    </tr>\n",
       "  </thead>\n",
       "  <tbody>\n",
       "    <tr>\n",
       "      <th>0</th>\n",
       "      <td>892</td>\n",
       "      <td>0</td>\n",
       "    </tr>\n",
       "    <tr>\n",
       "      <th>1</th>\n",
       "      <td>893</td>\n",
       "      <td>1</td>\n",
       "    </tr>\n",
       "    <tr>\n",
       "      <th>2</th>\n",
       "      <td>894</td>\n",
       "      <td>0</td>\n",
       "    </tr>\n",
       "    <tr>\n",
       "      <th>3</th>\n",
       "      <td>895</td>\n",
       "      <td>0</td>\n",
       "    </tr>\n",
       "    <tr>\n",
       "      <th>4</th>\n",
       "      <td>896</td>\n",
       "      <td>1</td>\n",
       "    </tr>\n",
       "  </tbody>\n",
       "</table>\n",
       "</div>"
      ],
      "text/plain": [
       "   PassengerId  Survived\n",
       "0          892         0\n",
       "1          893         1\n",
       "2          894         0\n",
       "3          895         0\n",
       "4          896         1"
      ]
     },
     "execution_count": 55,
     "metadata": {},
     "output_type": "execute_result"
    }
   ],
   "source": [
    "submission_s['Survived'] = prediction_test_s.tolist()\n",
    "submission_s.head()"
   ]
  },
  {
   "cell_type": "code",
   "execution_count": 56,
   "id": "3190892f",
   "metadata": {},
   "outputs": [],
   "source": [
    "submission_s.to_csv('submission using Scikit',index=False) #Submission using the Scikit-learn model"
   ]
  },
  {
   "cell_type": "code",
   "execution_count": 57,
   "id": "8fce78ac",
   "metadata": {},
   "outputs": [
    {
     "data": {
      "text/html": [
       "<div>\n",
       "<style scoped>\n",
       "    .dataframe tbody tr th:only-of-type {\n",
       "        vertical-align: middle;\n",
       "    }\n",
       "\n",
       "    .dataframe tbody tr th {\n",
       "        vertical-align: top;\n",
       "    }\n",
       "\n",
       "    .dataframe thead th {\n",
       "        text-align: right;\n",
       "    }\n",
       "</style>\n",
       "<table border=\"1\" class=\"dataframe\">\n",
       "  <thead>\n",
       "    <tr style=\"text-align: right;\">\n",
       "      <th></th>\n",
       "      <th>PassengerId</th>\n",
       "      <th>Survived</th>\n",
       "    </tr>\n",
       "  </thead>\n",
       "  <tbody>\n",
       "    <tr>\n",
       "      <th>0</th>\n",
       "      <td>892</td>\n",
       "      <td>0</td>\n",
       "    </tr>\n",
       "    <tr>\n",
       "      <th>1</th>\n",
       "      <td>893</td>\n",
       "      <td>0</td>\n",
       "    </tr>\n",
       "    <tr>\n",
       "      <th>2</th>\n",
       "      <td>894</td>\n",
       "      <td>0</td>\n",
       "    </tr>\n",
       "    <tr>\n",
       "      <th>3</th>\n",
       "      <td>895</td>\n",
       "      <td>0</td>\n",
       "    </tr>\n",
       "    <tr>\n",
       "      <th>4</th>\n",
       "      <td>896</td>\n",
       "      <td>0</td>\n",
       "    </tr>\n",
       "  </tbody>\n",
       "</table>\n",
       "</div>"
      ],
      "text/plain": [
       "   PassengerId  Survived\n",
       "0          892         0\n",
       "1          893         0\n",
       "2          894         0\n",
       "3          895         0\n",
       "4          896         0"
      ]
     },
     "execution_count": 57,
     "metadata": {},
     "output_type": "execute_result"
    }
   ],
   "source": [
    "submission_n['Survived'] = prediction_test_n.tolist()\n",
    "submission_n.head()"
   ]
  },
  {
   "cell_type": "code",
   "execution_count": 58,
   "id": "92ac4a8b",
   "metadata": {},
   "outputs": [],
   "source": [
    "submission_n.to_csv('submission using Numpy',index=False) #Submission using the Numpy model"
   ]
  },
  {
   "cell_type": "markdown",
   "id": "1041235a",
   "metadata": {},
   "source": [
    "## Results"
   ]
  },
  {
   "cell_type": "markdown",
   "id": "4b08b346",
   "metadata": {},
   "source": [
    "The model made using Scikit-learn had a score of 77%\n",
    "\n",
    "The model made using Numpy had a score of 64%\n",
    "\n",
    "Things to try in the future:\n",
    "    \n",
    "    For both models, I could've added regularization to avoid overfitting"
   ]
  },
  {
   "cell_type": "code",
   "execution_count": null,
   "id": "b2db010c",
   "metadata": {},
   "outputs": [],
   "source": []
  }
 ],
 "metadata": {
  "kernelspec": {
   "display_name": "Python 3 (ipykernel)",
   "language": "python",
   "name": "python3"
  },
  "language_info": {
   "codemirror_mode": {
    "name": "ipython",
    "version": 3
   },
   "file_extension": ".py",
   "mimetype": "text/x-python",
   "name": "python",
   "nbconvert_exporter": "python",
   "pygments_lexer": "ipython3",
   "version": "3.9.7"
  }
 },
 "nbformat": 4,
 "nbformat_minor": 5
}
